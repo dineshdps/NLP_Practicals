{
  "nbformat": 4,
  "nbformat_minor": 0,
  "metadata": {
    "colab": {
      "name": "Raw_Text_Processing_Dinesh_09.ipynb",
      "provenance": [],
      "authorship_tag": "ABX9TyMEfBGtkYQh9jiXY++KzfqP",
      "include_colab_link": true
    },
    "kernelspec": {
      "name": "python3",
      "display_name": "Python 3"
    },
    "language_info": {
      "name": "python"
    }
  },
  "cells": [
    {
      "cell_type": "markdown",
      "metadata": {
        "id": "view-in-github",
        "colab_type": "text"
      },
      "source": [
        "<a href=\"https://colab.research.google.com/github/dineshdps/NLP_Practicals/blob/main/Raw_Text_Processing_Dinesh_09.ipynb\" target=\"_parent\"><img src=\"https://colab.research.google.com/assets/colab-badge.svg\" alt=\"Open In Colab\"/></a>"
      ]
    },
    {
      "cell_type": "markdown",
      "metadata": {
        "id": "mRYCuSPQq94z"
      },
      "source": [
        "\n",
        "Practical 2 - Processing Raw Text\n",
        "\n",
        "Accessing text from Web.\n",
        "Accessing local text file.\n",
        "Accessing text from PDF, Word and other Binary Format\n",
        "NLP Pipeline\n",
        "1. Accessing text from Web."
      ]
    },
    {
      "cell_type": "code",
      "metadata": {
        "id": "JxHrREf_WK7K"
      },
      "source": [
        "from urllib import request\n",
        "\n"
      ],
      "execution_count": null,
      "outputs": []
    },
    {
      "cell_type": "code",
      "metadata": {
        "id": "zCZ991I9pNQB"
      },
      "source": [
        "url = \"http://www.gutenberg.org/files/2554/2554-0.txt\""
      ],
      "execution_count": null,
      "outputs": []
    },
    {
      "cell_type": "code",
      "metadata": {
        "id": "i8FxpeXTKAzZ"
      },
      "source": [
        "from __future__ import division"
      ],
      "execution_count": null,
      "outputs": []
    },
    {
      "cell_type": "code",
      "metadata": {
        "id": "esa0bZbTKaLC"
      },
      "source": [
        "import nltk, re, pprint"
      ],
      "execution_count": null,
      "outputs": []
    },
    {
      "cell_type": "code",
      "metadata": {
        "id": "hPgyaa8bKc7I"
      },
      "source": [
        "from nltk import word_tokenize"
      ],
      "execution_count": null,
      "outputs": []
    },
    {
      "cell_type": "code",
      "metadata": {
        "id": "hMVwxPfhKgCI"
      },
      "source": [
        "response = request.urlopen(url)"
      ],
      "execution_count": null,
      "outputs": []
    },
    {
      "cell_type": "code",
      "metadata": {
        "id": "EA0zlm5fKi1L"
      },
      "source": [
        "raw = response.read().decode('utf8')"
      ],
      "execution_count": null,
      "outputs": []
    },
    {
      "cell_type": "code",
      "metadata": {
        "colab": {
          "base_uri": "https://localhost:8080/"
        },
        "id": "Gntwx8ubKmUW",
        "outputId": "0ab53070-38c1-4365-da16-8f7695979625"
      },
      "source": [
        "type(raw)"
      ],
      "execution_count": null,
      "outputs": [
        {
          "output_type": "execute_result",
          "data": {
            "text/plain": [
              "str"
            ]
          },
          "metadata": {
            "tags": []
          },
          "execution_count": 32
        }
      ]
    },
    {
      "cell_type": "code",
      "metadata": {
        "colab": {
          "base_uri": "https://localhost:8080/"
        },
        "id": "Q_ToN5_FKpnG",
        "outputId": "63aaccc4-d2e8-477a-dd42-46438b9cea69"
      },
      "source": [
        "len(raw)"
      ],
      "execution_count": null,
      "outputs": [
        {
          "output_type": "execute_result",
          "data": {
            "text/plain": [
              "1176967"
            ]
          },
          "metadata": {
            "tags": []
          },
          "execution_count": 33
        }
      ]
    },
    {
      "cell_type": "code",
      "metadata": {
        "colab": {
          "base_uri": "https://localhost:8080/",
          "height": 35
        },
        "id": "k4vqJsz4OeNI",
        "outputId": "955a0973-c9cb-4230-c7ac-2cc9fc866a4a"
      },
      "source": [
        "raw[:75]"
      ],
      "execution_count": null,
      "outputs": [
        {
          "output_type": "execute_result",
          "data": {
            "application/vnd.google.colaboratory.intrinsic+json": {
              "type": "string"
            },
            "text/plain": [
              "'\\ufeffThe Project Gutenberg EBook of Crime and Punishment, by Fyodor Dostoevsky\\r'"
            ]
          },
          "metadata": {
            "tags": []
          },
          "execution_count": 34
        }
      ]
    },
    {
      "cell_type": "code",
      "metadata": {
        "colab": {
          "base_uri": "https://localhost:8080/"
        },
        "id": "2nvOOZQ9P0Gx",
        "outputId": "982f73a5-c4d5-4d08-c484-a3bce3427a2b"
      },
      "source": [
        "import nltk\n",
        "nltk.download('punkt')\n",
        "from nltk import word_tokenize"
      ],
      "execution_count": null,
      "outputs": [
        {
          "output_type": "stream",
          "text": [
            "[nltk_data] Downloading package punkt to /root/nltk_data...\n",
            "[nltk_data]   Package punkt is already up-to-date!\n"
          ],
          "name": "stdout"
        }
      ]
    },
    {
      "cell_type": "code",
      "metadata": {
        "colab": {
          "base_uri": "https://localhost:8080/"
        },
        "id": "nO6ZUZtOQBrc",
        "outputId": "9173d0d4-32f1-4e52-e583-9e1334fecc40"
      },
      "source": [
        "tokens = word_tokenize(raw)\n",
        "type(tokens)"
      ],
      "execution_count": null,
      "outputs": [
        {
          "output_type": "execute_result",
          "data": {
            "text/plain": [
              "list"
            ]
          },
          "metadata": {
            "tags": []
          },
          "execution_count": 36
        }
      ]
    },
    {
      "cell_type": "code",
      "metadata": {
        "colab": {
          "base_uri": "https://localhost:8080/"
        },
        "id": "BHYkQUqtQRkg",
        "outputId": "8896efe9-e4ed-490d-b727-a6aaab877400"
      },
      "source": [
        "len(tokens)"
      ],
      "execution_count": null,
      "outputs": [
        {
          "output_type": "execute_result",
          "data": {
            "text/plain": [
              "257727"
            ]
          },
          "metadata": {
            "tags": []
          },
          "execution_count": 37
        }
      ]
    },
    {
      "cell_type": "code",
      "metadata": {
        "id": "_YUg0hY-QiKB",
        "colab": {
          "base_uri": "https://localhost:8080/"
        },
        "outputId": "8d4d1c1d-7180-4d31-e77f-1146432dbe34"
      },
      "source": [
        "tokens[:10]"
      ],
      "execution_count": null,
      "outputs": [
        {
          "output_type": "execute_result",
          "data": {
            "text/plain": [
              "['\\ufeffThe',\n",
              " 'Project',\n",
              " 'Gutenberg',\n",
              " 'EBook',\n",
              " 'of',\n",
              " 'Crime',\n",
              " 'and',\n",
              " 'Punishment',\n",
              " ',',\n",
              " 'by']"
            ]
          },
          "metadata": {
            "tags": []
          },
          "execution_count": 38
        }
      ]
    },
    {
      "cell_type": "code",
      "metadata": {
        "id": "7AjDDoNKo3-H"
      },
      "source": [
        "text = nltk.Text(tokens)"
      ],
      "execution_count": null,
      "outputs": []
    },
    {
      "cell_type": "code",
      "metadata": {
        "colab": {
          "base_uri": "https://localhost:8080/"
        },
        "id": "-Tw6txlfo_yE",
        "outputId": "b55ec05b-4634-4a15-ff86-54c727a585ef"
      },
      "source": [
        "type(text)"
      ],
      "execution_count": null,
      "outputs": [
        {
          "output_type": "execute_result",
          "data": {
            "text/plain": [
              "nltk.text.Text"
            ]
          },
          "metadata": {
            "tags": []
          },
          "execution_count": 40
        }
      ]
    },
    {
      "cell_type": "code",
      "metadata": {
        "id": "vgsXF8y3pI93",
        "colab": {
          "base_uri": "https://localhost:8080/"
        },
        "outputId": "d59533db-d298-4705-fc64-bd22f77f1f32"
      },
      "source": [
        "text = nltk.Text(tokens)\n",
        "text"
      ],
      "execution_count": null,
      "outputs": [
        {
          "output_type": "execute_result",
          "data": {
            "text/plain": [
              "<Text: ﻿The Project Gutenberg EBook of Crime and Punishment...>"
            ]
          },
          "metadata": {
            "tags": []
          },
          "execution_count": 41
        }
      ]
    },
    {
      "cell_type": "code",
      "metadata": {
        "colab": {
          "base_uri": "https://localhost:8080/"
        },
        "id": "LDnwyiJPMWvw",
        "outputId": "402c59a1-dbf4-4be3-e2dd-748ba77c361f"
      },
      "source": [
        "text[1024:1062]\n"
      ],
      "execution_count": null,
      "outputs": [
        {
          "output_type": "execute_result",
          "data": {
            "text/plain": [
              "['an',\n",
              " 'exceptionally',\n",
              " 'hot',\n",
              " 'evening',\n",
              " 'early',\n",
              " 'in',\n",
              " 'July',\n",
              " 'a',\n",
              " 'young',\n",
              " 'man',\n",
              " 'came',\n",
              " 'out',\n",
              " 'of',\n",
              " 'the',\n",
              " 'garret',\n",
              " 'in',\n",
              " 'which',\n",
              " 'he',\n",
              " 'lodged',\n",
              " 'in',\n",
              " 'S.',\n",
              " 'Place',\n",
              " 'and',\n",
              " 'walked',\n",
              " 'slowly',\n",
              " ',',\n",
              " 'as',\n",
              " 'though',\n",
              " 'in',\n",
              " 'hesitation',\n",
              " ',',\n",
              " 'towards',\n",
              " 'K.',\n",
              " 'bridge',\n",
              " '.',\n",
              " 'He',\n",
              " 'had',\n",
              " 'successfully']"
            ]
          },
          "metadata": {
            "tags": []
          },
          "execution_count": 42
        }
      ]
    },
    {
      "cell_type": "code",
      "metadata": {
        "colab": {
          "base_uri": "https://localhost:8080/"
        },
        "id": "Ol0pZhWeMbQX",
        "outputId": "54312cdb-064c-4394-f1ce-cbe27754906d"
      },
      "source": [
        "nltk.download('stopwords')\n",
        "text.collocations()"
      ],
      "execution_count": null,
      "outputs": [
        {
          "output_type": "stream",
          "text": [
            "[nltk_data] Downloading package stopwords to /root/nltk_data...\n",
            "[nltk_data]   Package stopwords is already up-to-date!\n",
            "Katerina Ivanovna; Pyotr Petrovitch; Pulcheria Alexandrovna; Avdotya\n",
            "Romanovna; Rodion Romanovitch; Marfa Petrovna; Sofya Semyonovna; old\n",
            "woman; Project Gutenberg-tm; Porfiry Petrovitch; Amalia Ivanovna;\n",
            "great deal; young man; Nikodim Fomitch; Ilya Petrovitch; Project\n",
            "Gutenberg; Andrey Semyonovitch; Hay Market; Dmitri Prokofitch; Good\n",
            "heavens\n"
          ],
          "name": "stdout"
        }
      ]
    },
    {
      "cell_type": "code",
      "metadata": {
        "colab": {
          "base_uri": "https://localhost:8080/"
        },
        "id": "G8UPTyVkMlXI",
        "outputId": "a1a76ff0-4b76-488a-8a8d-402da36dc748"
      },
      "source": [
        "\n",
        "raw.find(\"PART I\")"
      ],
      "execution_count": null,
      "outputs": [
        {
          "output_type": "execute_result",
          "data": {
            "text/plain": [
              "5336"
            ]
          },
          "metadata": {
            "tags": []
          },
          "execution_count": 44
        }
      ]
    },
    {
      "cell_type": "code",
      "metadata": {
        "colab": {
          "base_uri": "https://localhost:8080/"
        },
        "id": "bTOc0qFPMqO4",
        "outputId": "9de35f3a-6df7-4a7f-d72d-08192803f709"
      },
      "source": [
        "raw.rfind(\"End of Project Gutenberg's Crime\")"
      ],
      "execution_count": null,
      "outputs": [
        {
          "output_type": "execute_result",
          "data": {
            "text/plain": [
              "-1"
            ]
          },
          "metadata": {
            "tags": []
          },
          "execution_count": 45
        }
      ]
    },
    {
      "cell_type": "code",
      "metadata": {
        "colab": {
          "base_uri": "https://localhost:8080/"
        },
        "id": "8OU-cHa3Mu1O",
        "outputId": "4624ff92-1d09-4759-8b49-63e99bd7df2a"
      },
      "source": [
        "\n",
        "raw = raw[5338:1157743] [1]\n",
        "raw.find(\"PART I\")"
      ],
      "execution_count": null,
      "outputs": [
        {
          "output_type": "execute_result",
          "data": {
            "text/plain": [
              "-1"
            ]
          },
          "metadata": {
            "tags": []
          },
          "execution_count": 46
        }
      ]
    },
    {
      "cell_type": "markdown",
      "metadata": {
        "id": "5eiKCaFeoNI3"
      },
      "source": [
        "Accessing local text file."
      ]
    },
    {
      "cell_type": "code",
      "metadata": {
        "colab": {
          "base_uri": "https://localhost:8080/"
        },
        "id": "C5y8ZWHMNA9q",
        "outputId": "68721570-37e3-4817-af6d-974373095c52"
      },
      "source": [
        "import nltk\n",
        "nltk.download('punkt')\n",
        "from nltk import word_tokenize"
      ],
      "execution_count": null,
      "outputs": [
        {
          "output_type": "stream",
          "text": [
            "[nltk_data] Downloading package punkt to /root/nltk_data...\n",
            "[nltk_data]   Package punkt is already up-to-date!\n"
          ],
          "name": "stdout"
        }
      ]
    },
    {
      "cell_type": "code",
      "metadata": {
        "id": "y-dH1cUjX0y9"
      },
      "source": [
        "f = open('NLP.txt')"
      ],
      "execution_count": null,
      "outputs": []
    },
    {
      "cell_type": "code",
      "metadata": {
        "id": "sHpnTkSCuFUy"
      },
      "source": [
        "raw = f.read()"
      ],
      "execution_count": null,
      "outputs": []
    },
    {
      "cell_type": "code",
      "metadata": {
        "id": "XfLmjDhsoTqT"
      },
      "source": [
        "\n",
        "f = open('NLP.txt')"
      ],
      "execution_count": null,
      "outputs": []
    },
    {
      "cell_type": "code",
      "metadata": {
        "id": "vMrXcbPDoWN8"
      },
      "source": [
        "import os"
      ],
      "execution_count": null,
      "outputs": []
    },
    {
      "cell_type": "code",
      "metadata": {
        "colab": {
          "base_uri": "https://localhost:8080/"
        },
        "id": "06C5XJZFogch",
        "outputId": "d2177c42-6668-451f-f646-abab19de019b"
      },
      "source": [
        "os.listdir('.')"
      ],
      "execution_count": null,
      "outputs": [
        {
          "output_type": "execute_result",
          "data": {
            "text/plain": [
              "['.config', 'NLP.txt', 'sample_data']"
            ]
          },
          "metadata": {
            "tags": []
          },
          "execution_count": 52
        }
      ]
    },
    {
      "cell_type": "code",
      "metadata": {
        "colab": {
          "base_uri": "https://localhost:8080/",
          "height": 52
        },
        "id": "5flwApSMokse",
        "outputId": "bfefd8b5-2501-429c-af73-3cb8e6e1389e"
      },
      "source": [
        "f.read()"
      ],
      "execution_count": null,
      "outputs": [
        {
          "output_type": "execute_result",
          "data": {
            "application/vnd.google.colaboratory.intrinsic+json": {
              "type": "string"
            },
            "text/plain": [
              "'Natural Language Processing, or NLP for short, is broadly defined as the automatic manipulation of natural language, like speech and text, by software. The study of natural language processing has been around for more than 50 years and grew out of the field of linguistics with the rise of computers.'"
            ]
          },
          "metadata": {
            "tags": []
          },
          "execution_count": 53
        }
      ]
    },
    {
      "cell_type": "code",
      "metadata": {
        "colab": {
          "base_uri": "https://localhost:8080/"
        },
        "id": "kX8H7ou-qDSj",
        "outputId": "a5b27d2d-f314-4b7b-f553-4fe92a4d86e4"
      },
      "source": [
        "f = open('NLP.txt', 'rU')\n",
        "for line in f:\n",
        "  print(line.strip())"
      ],
      "execution_count": null,
      "outputs": [
        {
          "output_type": "stream",
          "text": [
            "Natural Language Processing, or NLP for short, is broadly defined as the automatic manipulation of natural language, like speech and text, by software. The study of natural language processing has been around for more than 50 years and grew out of the field of linguistics with the rise of computers.\n"
          ],
          "name": "stdout"
        },
        {
          "output_type": "stream",
          "text": [
            "/usr/local/lib/python3.7/dist-packages/ipykernel_launcher.py:1: DeprecationWarning: 'U' mode is deprecated\n",
            "  \"\"\"Entry point for launching an IPython kernel.\n"
          ],
          "name": "stderr"
        }
      ]
    },
    {
      "cell_type": "code",
      "metadata": {
        "colab": {
          "base_uri": "https://localhost:8080/"
        },
        "id": "RGw3jGlSqJd3",
        "outputId": "07faae0b-eb92-471f-8363-188bdce31fac"
      },
      "source": [
        "\n",
        "s = input(\"Enter some text: \")"
      ],
      "execution_count": null,
      "outputs": [
        {
          "output_type": "stream",
          "text": [
            "Enter some text: hi\n"
          ],
          "name": "stdout"
        }
      ]
    },
    {
      "cell_type": "code",
      "metadata": {
        "colab": {
          "base_uri": "https://localhost:8080/"
        },
        "id": "w02utgeKqQpj",
        "outputId": "cd6f9dbc-b7ff-4cf5-eaa9-f9b346617e5b"
      },
      "source": [
        "\n",
        "print(\"You typed\", len(word_tokenize(s)), \"words.\")"
      ],
      "execution_count": null,
      "outputs": [
        {
          "output_type": "stream",
          "text": [
            "You typed 1 words.\n"
          ],
          "name": "stdout"
        }
      ]
    },
    {
      "cell_type": "markdown",
      "metadata": {
        "id": "aCNSJe7gqZlU"
      },
      "source": [
        "The NLP Pipeline"
      ]
    },
    {
      "cell_type": "code",
      "metadata": {
        "id": "GufV_COSqYFY"
      },
      "source": [
        "\n",
        "raw = open('NLP.txt').read()"
      ],
      "execution_count": null,
      "outputs": []
    },
    {
      "cell_type": "code",
      "metadata": {
        "colab": {
          "base_uri": "https://localhost:8080/"
        },
        "id": "dGzqyc6UqffD",
        "outputId": "30c80e26-6104-407d-8454-84710893ca7e"
      },
      "source": [
        "type(raw)"
      ],
      "execution_count": null,
      "outputs": [
        {
          "output_type": "execute_result",
          "data": {
            "text/plain": [
              "str"
            ]
          },
          "metadata": {
            "tags": []
          },
          "execution_count": 58
        }
      ]
    },
    {
      "cell_type": "code",
      "metadata": {
        "colab": {
          "base_uri": "https://localhost:8080/"
        },
        "id": "-iWftnrIqjLM",
        "outputId": "b1f547a6-815d-4dfd-f5b1-1fa15f2b49d6"
      },
      "source": [
        "\n",
        "tokens = word_tokenize(raw)\n",
        "type(tokens)"
      ],
      "execution_count": null,
      "outputs": [
        {
          "output_type": "execute_result",
          "data": {
            "text/plain": [
              "list"
            ]
          },
          "metadata": {
            "tags": []
          },
          "execution_count": 59
        }
      ]
    },
    {
      "cell_type": "code",
      "metadata": {
        "colab": {
          "base_uri": "https://localhost:8080/"
        },
        "id": "3Pf-Z9KRqm07",
        "outputId": "18db7dac-baaa-4667-b20f-7721833f329b"
      },
      "source": [
        "\n",
        "words = [w.lower() for w in tokens]\n",
        "type(words)"
      ],
      "execution_count": null,
      "outputs": [
        {
          "output_type": "execute_result",
          "data": {
            "text/plain": [
              "list"
            ]
          },
          "metadata": {
            "tags": []
          },
          "execution_count": 60
        }
      ]
    },
    {
      "cell_type": "code",
      "metadata": {
        "id": "dmTpLu-Dqp7a"
      },
      "source": [
        "\n",
        "vocab = sorted(set(words))\n",
        "type(vocab)"
      ],
      "execution_count": null,
      "outputs": []
    }
  ]
}